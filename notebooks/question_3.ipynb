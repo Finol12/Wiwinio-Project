{
 "cells": [
  {
   "cell_type": "code",
   "execution_count": 2,
   "metadata": {},
   "outputs": [],
   "source": [
    "# import sqlalchemy\n",
    "import sqlite3\n",
    "import pandas as pd"
   ]
  },
  {
   "cell_type": "code",
   "execution_count": 3,
   "metadata": {},
   "outputs": [],
   "source": [
    "import matplotlib.pyplot as plt\n",
    "import seaborn as sns"
   ]
  },
  {
   "cell_type": "code",
   "execution_count": 4,
   "metadata": {},
   "outputs": [],
   "source": [
    "# Connect to SQLite database\n",
    "connection = sqlite3.connect(r'../data/vivino.db')\n",
    "# Create a cursor object\n",
    "cursor = connection.cursor()"
   ]
  },
  {
   "cell_type": "markdown",
   "metadata": {},
   "source": [
    "## Specific combination of tastes\n",
    "\n",
    "- We have detected that a big cluster of customers like a specific combination of tastes. \n",
    "- We have identified a few primary keywords that match this. \n",
    "- We would like you to find all the wines that have those keywords. \n",
    "- To ensure the accuracy of our selection, ensure that more than 10 users confirmed those keywords. \n",
    "- Also, identify the group_name related to those keywords.\n",
    "\n",
    "Keywords:\n",
    "\n",
    "- coffee\n",
    "- toast\n",
    "- green apple\n",
    "- cream\n",
    "- citrus"
   ]
  },
  {
   "cell_type": "code",
   "execution_count": 5,
   "metadata": {},
   "outputs": [
    {
     "name": "stdout",
     "output_type": "stream",
     "text": [
      "(7, 2)\n"
     ]
    },
    {
     "data": {
      "text/html": [
       "<div>\n",
       "<style scoped>\n",
       "    .dataframe tbody tr th:only-of-type {\n",
       "        vertical-align: middle;\n",
       "    }\n",
       "\n",
       "    .dataframe tbody tr th {\n",
       "        vertical-align: top;\n",
       "    }\n",
       "\n",
       "    .dataframe thead th {\n",
       "        text-align: right;\n",
       "    }\n",
       "</style>\n",
       "<table border=\"1\" class=\"dataframe\">\n",
       "  <thead>\n",
       "    <tr style=\"text-align: right;\">\n",
       "      <th></th>\n",
       "      <th>group_flavor</th>\n",
       "      <th>count</th>\n",
       "    </tr>\n",
       "  </thead>\n",
       "  <tbody>\n",
       "    <tr>\n",
       "      <th>0</th>\n",
       "      <td>coffee (oak)</td>\n",
       "      <td>310</td>\n",
       "    </tr>\n",
       "    <tr>\n",
       "      <th>1</th>\n",
       "      <td>coffee (non_oak)</td>\n",
       "      <td>310</td>\n",
       "    </tr>\n",
       "    <tr>\n",
       "      <th>2</th>\n",
       "      <td>cream (microbio)</td>\n",
       "      <td>257</td>\n",
       "    </tr>\n",
       "    <tr>\n",
       "      <th>3</th>\n",
       "      <td>toast (non_oak)</td>\n",
       "      <td>179</td>\n",
       "    </tr>\n",
       "    <tr>\n",
       "      <th>4</th>\n",
       "      <td>toast (microbio)</td>\n",
       "      <td>179</td>\n",
       "    </tr>\n",
       "    <tr>\n",
       "      <th>5</th>\n",
       "      <td>citrus (citrus_fruit)</td>\n",
       "      <td>137</td>\n",
       "    </tr>\n",
       "    <tr>\n",
       "      <th>6</th>\n",
       "      <td>green apple (tree_fruit)</td>\n",
       "      <td>66</td>\n",
       "    </tr>\n",
       "  </tbody>\n",
       "</table>\n",
       "</div>"
      ],
      "text/plain": [
       "               group_flavor  count\n",
       "0              coffee (oak)    310\n",
       "1          coffee (non_oak)    310\n",
       "2          cream (microbio)    257\n",
       "3           toast (non_oak)    179\n",
       "4          toast (microbio)    179\n",
       "5     citrus (citrus_fruit)    137\n",
       "6  green apple (tree_fruit)     66"
      ]
     },
     "metadata": {},
     "output_type": "display_data"
    }
   ],
   "source": [
    "query_taste_count = f\"\"\"\n",
    "    SELECT keywords.name || ' (' || keywords_wine.group_name || ')' AS group_flavor,\n",
    "           COUNT(keywords_wine.keyword_type) AS count\n",
    "    FROM keywords_wine\n",
    "        JOIN keywords on keywords_wine.keyword_id = keywords.id\n",
    "        JOIN flavor_groups on keywords_wine.group_name = flavor_groups.name\n",
    "    WHERE keywords.name IN (\"coffee\", \"toast\", \"green apple\", \"cream\", \"citrus\") AND\n",
    "          keywords_wine.count > 10\n",
    "    GROUP BY group_flavor\n",
    "    ORDER BY count DESC\n",
    ";\n",
    "\"\"\"\n",
    "df_taste_count = pd.read_sql_query(query_taste_count, connection)\n",
    "print(df_taste_count.shape)\n",
    "display(df_taste_count)"
   ]
  },
  {
   "cell_type": "code",
   "execution_count": 6,
   "metadata": {},
   "outputs": [
    {
     "name": "stdout",
     "output_type": "stream",
     "text": [
      "(1438, 3)\n"
     ]
    },
    {
     "data": {
      "text/html": [
       "<div>\n",
       "<style scoped>\n",
       "    .dataframe tbody tr th:only-of-type {\n",
       "        vertical-align: middle;\n",
       "    }\n",
       "\n",
       "    .dataframe tbody tr th {\n",
       "        vertical-align: top;\n",
       "    }\n",
       "\n",
       "    .dataframe thead th {\n",
       "        text-align: right;\n",
       "    }\n",
       "</style>\n",
       "<table border=\"1\" class=\"dataframe\">\n",
       "  <thead>\n",
       "    <tr style=\"text-align: right;\">\n",
       "      <th></th>\n",
       "      <th>name</th>\n",
       "      <th>id</th>\n",
       "      <th>group_flavor</th>\n",
       "    </tr>\n",
       "  </thead>\n",
       "  <tbody>\n",
       "    <tr>\n",
       "      <th>0</th>\n",
       "      <td>St. Henri Shiraz</td>\n",
       "      <td>1268</td>\n",
       "      <td>coffee (oak)</td>\n",
       "    </tr>\n",
       "    <tr>\n",
       "      <th>1</th>\n",
       "      <td>St. Henri Shiraz</td>\n",
       "      <td>1268</td>\n",
       "      <td>coffee (non_oak)</td>\n",
       "    </tr>\n",
       "    <tr>\n",
       "      <th>2</th>\n",
       "      <td>St. Henri Shiraz</td>\n",
       "      <td>1268</td>\n",
       "      <td>cream (microbio)</td>\n",
       "    </tr>\n",
       "    <tr>\n",
       "      <th>3</th>\n",
       "      <td>Siepi</td>\n",
       "      <td>1471</td>\n",
       "      <td>coffee (oak)</td>\n",
       "    </tr>\n",
       "    <tr>\n",
       "      <th>4</th>\n",
       "      <td>Siepi</td>\n",
       "      <td>1471</td>\n",
       "      <td>toast (non_oak)</td>\n",
       "    </tr>\n",
       "    <tr>\n",
       "      <th>5</th>\n",
       "      <td>Siepi</td>\n",
       "      <td>1471</td>\n",
       "      <td>coffee (non_oak)</td>\n",
       "    </tr>\n",
       "    <tr>\n",
       "      <th>6</th>\n",
       "      <td>Siepi</td>\n",
       "      <td>1471</td>\n",
       "      <td>toast (microbio)</td>\n",
       "    </tr>\n",
       "    <tr>\n",
       "      <th>7</th>\n",
       "      <td>Solare Toscana</td>\n",
       "      <td>1647</td>\n",
       "      <td>coffee (oak)</td>\n",
       "    </tr>\n",
       "    <tr>\n",
       "      <th>8</th>\n",
       "      <td>Solare Toscana</td>\n",
       "      <td>1647</td>\n",
       "      <td>coffee (non_oak)</td>\n",
       "    </tr>\n",
       "    <tr>\n",
       "      <th>9</th>\n",
       "      <td>Tenuta Tignanello 'Solaia'</td>\n",
       "      <td>1651</td>\n",
       "      <td>coffee (oak)</td>\n",
       "    </tr>\n",
       "  </tbody>\n",
       "</table>\n",
       "</div>"
      ],
      "text/plain": [
       "                         name    id      group_flavor\n",
       "0            St. Henri Shiraz  1268      coffee (oak)\n",
       "1            St. Henri Shiraz  1268  coffee (non_oak)\n",
       "2            St. Henri Shiraz  1268  cream (microbio)\n",
       "3                       Siepi  1471      coffee (oak)\n",
       "4                       Siepi  1471   toast (non_oak)\n",
       "5                       Siepi  1471  coffee (non_oak)\n",
       "6                       Siepi  1471  toast (microbio)\n",
       "7              Solare Toscana  1647      coffee (oak)\n",
       "8              Solare Toscana  1647  coffee (non_oak)\n",
       "9  Tenuta Tignanello 'Solaia'  1651      coffee (oak)"
      ]
     },
     "metadata": {},
     "output_type": "display_data"
    }
   ],
   "source": [
    "query_5_tastes = f\"\"\"\n",
    "    SELECT wines.name, wines.id,\n",
    "           keywords.name || ' (' || keywords_wine.group_name || ')' AS group_flavor\n",
    "    FROM keywords_wine\n",
    "        JOIN keywords on keywords_wine.keyword_id = keywords.id\n",
    "        JOIN flavor_groups on keywords_wine.group_name = flavor_groups.name\n",
    "        JOIN wines on keywords_wine.wine_id = wines.id\n",
    "    WHERE keywords.name IN (\"coffee\", \"toast\", \"green apple\", \"cream\", \"citrus\") AND\n",
    "          keywords_wine.count > 10\n",
    "    ORDER BY wines.id\n",
    ";\n",
    "\"\"\"\n",
    "df_5_tastes = pd.read_sql_query(query_5_tastes, connection)\n",
    "print(df_5_tastes.shape)\n",
    "display(df_5_tastes.head(10))"
   ]
  },
  {
   "cell_type": "code",
   "execution_count": 7,
   "metadata": {},
   "outputs": [
    {
     "data": {
      "image/png": "[encoded data removed]",
      "text/plain": [
       "<Figure size 500x500 with 1 Axes>"
      ]
     },
     "metadata": {},
     "output_type": "display_data"
    },
    {
     "data": {
      "text/plain": [
       "<Figure size 640x480 with 0 Axes>"
      ]
     },
     "metadata": {},
     "output_type": "display_data"
    }
   ],
   "source": [
    "g = sns.catplot(\n",
    "\tx = \"group_flavor\",\n",
    "\tdata = df_5_tastes,\n",
    "\tkind = \"count\"\n",
    ")\n",
    "g.tick_params(axis=\"x\", rotation=80)\n",
    "plt.show()\n",
    "plt.clf()"
   ]
  }
 ],
 "metadata": {
  "kernelspec": {
   "display_name": "_project_env",
   "language": "python",
   "name": "python3"
  },
  "language_info": {
   "codemirror_mode": {
    "name": "ipython",
    "version": 3
   },
   "file_extension": ".py",
   "mimetype": "text/x-python",
   "name": "python",
   "nbconvert_exporter": "python",
   "pygments_lexer": "ipython3",
   "version": "3.11.3"
  },
  "orig_nbformat": 4
 },
 "nbformat": 4,
 "nbformat_minor": 2
}
