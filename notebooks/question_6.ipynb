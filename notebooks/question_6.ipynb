{
 "cells": [
  {
   "cell_type": "markdown",
   "metadata": {},
   "source": [
    "# TOP 5 Cabernet Sauvignon Wines\n",
    "\n",
    "As requested from Vivino's VIP client, we have selected the TOP 5 best wines.   \n",
    "Our filter metrics were to check average ratings, and requiring at least 1000 inputs per rating. "
   ]
  },
  {
   "cell_type": "code",
   "execution_count": 4,
   "metadata": {},
   "outputs": [
    {
     "data": {
      "text/html": [
       "<div>\n",
       "<style scoped>\n",
       "    .dataframe tbody tr th:only-of-type {\n",
       "        vertical-align: middle;\n",
       "    }\n",
       "\n",
       "    .dataframe tbody tr th {\n",
       "        vertical-align: top;\n",
       "    }\n",
       "\n",
       "    .dataframe thead th {\n",
       "        text-align: right;\n",
       "    }\n",
       "</style>\n",
       "<table border=\"1\" class=\"dataframe\">\n",
       "  <thead>\n",
       "    <tr style=\"text-align: right;\">\n",
       "      <th></th>\n",
       "      <th>ID</th>\n",
       "      <th>Wine</th>\n",
       "      <th>Rating</th>\n",
       "      <th>Count</th>\n",
       "    </tr>\n",
       "  </thead>\n",
       "  <tbody>\n",
       "    <tr>\n",
       "      <th>0</th>\n",
       "      <td>1611255</td>\n",
       "      <td>Cabernet Sauvignon</td>\n",
       "      <td>4.8</td>\n",
       "      <td>2941</td>\n",
       "    </tr>\n",
       "    <tr>\n",
       "      <th>1</th>\n",
       "      <td>66294</td>\n",
       "      <td>Special Selection Cabernet Sauvignon</td>\n",
       "      <td>4.7</td>\n",
       "      <td>41236</td>\n",
       "    </tr>\n",
       "    <tr>\n",
       "      <th>2</th>\n",
       "      <td>66284</td>\n",
       "      <td>Cabernet Sauvignon</td>\n",
       "      <td>4.6</td>\n",
       "      <td>157944</td>\n",
       "    </tr>\n",
       "    <tr>\n",
       "      <th>3</th>\n",
       "      <td>3879</td>\n",
       "      <td>Cabernet Sauvignon (Signature)</td>\n",
       "      <td>4.6</td>\n",
       "      <td>13730</td>\n",
       "    </tr>\n",
       "    <tr>\n",
       "      <th>4</th>\n",
       "      <td>2653222</td>\n",
       "      <td>CASK 23 Cabernet Sauvignon</td>\n",
       "      <td>4.6</td>\n",
       "      <td>9464</td>\n",
       "    </tr>\n",
       "  </tbody>\n",
       "</table>\n",
       "</div>"
      ],
      "text/plain": [
       "        ID                                  Wine  Rating   Count\n",
       "0  1611255                    Cabernet Sauvignon     4.8    2941\n",
       "1    66294  Special Selection Cabernet Sauvignon     4.7   41236\n",
       "2    66284                    Cabernet Sauvignon     4.6  157944\n",
       "3     3879        Cabernet Sauvignon (Signature)     4.6   13730\n",
       "4  2653222            CASK 23 Cabernet Sauvignon     4.6    9464"
      ]
     },
     "metadata": {},
     "output_type": "display_data"
    }
   ],
   "source": [
    "import streamlit as st\n",
    "import pandas as pd\n",
    "import sqlite3\n",
    "\n",
    "connection = sqlite3.connect('../data/vivino.db')\n",
    "cursor = connection.cursor()\n",
    "\n",
    "cursor.execute ('''\n",
    "    SELECT\n",
    "        wines.id AS id,\n",
    "        wines.name AS name,\n",
    "        ROUND(AVG(wines.ratings_average), 2) AS hra,\n",
    "        wines.ratings_count AS count\n",
    "    FROM\n",
    "        countries\n",
    "        JOIN regions ON countries.code = regions.country_code\n",
    "        JOIN wines ON regions.id = wines.region_id\n",
    "        JOIN vintages on wines.id = vintages.wine_id\n",
    "    WHERE \n",
    "        wines.ratings_count > 1000 AND wines.name \n",
    "    LIKE \n",
    "        '%Cabernet Sauvignon%' \n",
    "    GROUP BY\n",
    "        wines.id\n",
    "    ORDER BY\n",
    "        hra DESC, count DESC\n",
    "    LIMIT 5;\n",
    "''')\n",
    "query_result = cursor.fetchall()\n",
    "\n",
    "query_result = pd.DataFrame(query_result)\n",
    "query_result.columns=['ID', 'Wine', 'Rating', 'Count']\n",
    "#query_result = query_result.rename(columns={0: 'Wine ID', 1:'Wine Name', 2:'Average Rating', 3:'Rating Count'})\n",
    "display(query_result)\n",
    "query_result.to_csv(\"../data/csv/question_6_0.csv\")"
   ]
  }
 ],
 "metadata": {
  "kernelspec": {
   "display_name": "_project_env",
   "language": "python",
   "name": "python3"
  },
  "language_info": {
   "codemirror_mode": {
    "name": "ipython",
    "version": 3
   },
   "file_extension": ".py",
   "mimetype": "text/x-python",
   "name": "python",
   "nbconvert_exporter": "python",
   "pygments_lexer": "ipython3",
   "version": "3.11.3"
  },
  "orig_nbformat": 4
 },
 "nbformat": 4,
 "nbformat_minor": 2
}
