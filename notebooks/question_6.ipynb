{
 "cells": [
  {
   "cell_type": "markdown",
   "metadata": {},
   "source": [
    "# TOP 5 Cabernet Sauvignon Wines\n",
    "\n",
    "As requested from Vivino's VIP client, we have selected the TOP 5 best wines.   \n",
    "Our filter metrics were to check average ratings, and requiring at least 1000 inputs per rating. "
   ]
  },
  {
   "cell_type": "code",
   "execution_count": 27,
   "metadata": {},
   "outputs": [
    {
     "data": {
      "text/html": [
       "<div>\n",
       "<style scoped>\n",
       "    .dataframe tbody tr th:only-of-type {\n",
       "        vertical-align: middle;\n",
       "    }\n",
       "\n",
       "    .dataframe tbody tr th {\n",
       "        vertical-align: top;\n",
       "    }\n",
       "\n",
       "    .dataframe thead th {\n",
       "        text-align: right;\n",
       "    }\n",
       "</style>\n",
       "<table border=\"1\" class=\"dataframe\">\n",
       "  <thead>\n",
       "    <tr style=\"text-align: right;\">\n",
       "      <th></th>\n",
       "      <th>0</th>\n",
       "      <th>1</th>\n",
       "      <th>2</th>\n",
       "    </tr>\n",
       "  </thead>\n",
       "  <tbody>\n",
       "    <tr>\n",
       "      <th>0</th>\n",
       "      <td>Cabernet Sauvignon</td>\n",
       "      <td>4.8</td>\n",
       "      <td>1611255</td>\n",
       "    </tr>\n",
       "    <tr>\n",
       "      <th>1</th>\n",
       "      <td>Special Selection Cabernet Sauvignon</td>\n",
       "      <td>4.7</td>\n",
       "      <td>66294</td>\n",
       "    </tr>\n",
       "    <tr>\n",
       "      <th>2</th>\n",
       "      <td>Au Paradis Cabernet Sauvignon</td>\n",
       "      <td>4.6</td>\n",
       "      <td>3075039</td>\n",
       "    </tr>\n",
       "    <tr>\n",
       "      <th>3</th>\n",
       "      <td>CASK 23 Cabernet Sauvignon</td>\n",
       "      <td>4.6</td>\n",
       "      <td>2653222</td>\n",
       "    </tr>\n",
       "    <tr>\n",
       "      <th>4</th>\n",
       "      <td>Cabernet Sauvignon</td>\n",
       "      <td>4.6</td>\n",
       "      <td>1145391</td>\n",
       "    </tr>\n",
       "  </tbody>\n",
       "</table>\n",
       "</div>"
      ],
      "text/plain": [
       "                                      0    1        2\n",
       "0                    Cabernet Sauvignon  4.8  1611255\n",
       "1  Special Selection Cabernet Sauvignon  4.7    66294\n",
       "2         Au Paradis Cabernet Sauvignon  4.6  3075039\n",
       "3            CASK 23 Cabernet Sauvignon  4.6  2653222\n",
       "4                    Cabernet Sauvignon  4.6  1145391"
      ]
     },
     "metadata": {},
     "output_type": "display_data"
    }
   ],
   "source": [
    "import streamlit as st\n",
    "import pandas as pd\n",
    "import sqlite3\n",
    "\n",
    "connection = sqlite3.connect('../data/vivino.db')\n",
    "cursor = connection.cursor()\n",
    "\n",
    "cursor.execute ('''\n",
    "    SELECT\n",
    "        wines.name as name,\n",
    "        ROUND(AVG(wines.ratings_average), 2) AS hra,\n",
    "        wines.id\n",
    "    FROM\n",
    "        countries\n",
    "        JOIN regions ON countries.code = regions.country_code\n",
    "        JOIN wines ON regions.id = wines.region_id\n",
    "        JOIN vintages on wines.id = vintages.wine_id\n",
    "    WHERE \n",
    "        wines.ratings_count > 1000 AND wines.name \n",
    "    LIKE \n",
    "        '%Sauvignon%' \n",
    "    GROUP BY\n",
    "        wines.id\n",
    "    ORDER BY\n",
    "        hra DESC\n",
    "    LIMIT 5;\n",
    "''')\n",
    "query_result = cursor.fetchall()\n",
    "\n",
    "query_result = pd.DataFrame(query_result)\n",
    "query_result = query_result.reset_index(drop=True)\n",
    "display(query_result)"
   ]
  }
 ],
 "metadata": {
  "kernelspec": {
   "display_name": "_project_env",
   "language": "python",
   "name": "python3"
  },
  "language_info": {
   "codemirror_mode": {
    "name": "ipython",
    "version": 3
   },
   "file_extension": ".py",
   "mimetype": "text/x-python",
   "name": "python",
   "nbconvert_exporter": "python",
   "pygments_lexer": "ipython3",
   "version": "3.11.5"
  },
  "orig_nbformat": 4
 },
 "nbformat": 4,
 "nbformat_minor": 2
}
