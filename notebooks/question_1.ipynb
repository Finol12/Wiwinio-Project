{
 "cells": [
  {
   "cell_type": "markdown",
   "metadata": {},
   "source": [
    "# Wine Selection for Sales Boost"
   ]
  },
  {
   "cell_type": "markdown",
   "metadata": {},
   "source": [
    "In this notebook, we will explore the database of wines and vintages to identify the top wines that we can highlight to increase sales.\n",
    "Our selection will be based on factors such as average rating, rating count, and affordability. "
   ]
  },
  {
   "cell_type": "code",
   "execution_count": 1,
   "metadata": {},
   "outputs": [
    {
     "name": "stdout",
     "output_type": "stream",
     "text": [
      "Wine Name: Cabernet Sauvignon, Average Rating: 4.8, Count Rating:2941, Year: 2015, Price (Euros): 1558.75\n",
      "Wine Name: Amarone della Valpolicella Classico Riserva, Average Rating: 4.8, Count Rating:587, Year: 2011, Price (Euros): 1046.25\n",
      "Wine Name: Fratini Bolgheri Superiore, Average Rating: 4.8, Count Rating:153, Year: 2018, Price (Euros): 262.6\n",
      "Wine Name: Mágico, Average Rating: 4.8, Count Rating:146, Year: 2019, Price (Euros): 480.0\n",
      "Wine Name: Cristal Rosé Vinothèque, Average Rating: 4.8, Count Rating:88, Year: 2000, Price (Euros): 1600.0\n",
      "Wine Name: Batard-Montrachet Grand Cru, Average Rating: 4.8, Count Rating:34, Year: 2020, Price (Euros): 1149.5\n",
      "Wine Name: Unico, Average Rating: 4.7, Count Rating:45140, Year: 2012, Price (Euros): 410.0\n",
      "Wine Name: Unico, Average Rating: 4.7, Count Rating:45140, Year: 2013, Price (Euros): 445.0\n",
      "Wine Name: Unico, Average Rating: 4.7, Count Rating:45140, Year: 1965, Price (Euros): 1040.6\n",
      "Wine Name: Sauternes, Average Rating: 4.7, Count Rating:44126, Year: 2005, Price (Euros): 928.3\n"
     ]
    }
   ],
   "source": [
    "import sqlite3\n",
    "\n",
    "# Connect to the database\n",
    "db_connection = sqlite3.connect('../data/vivino.db')\n",
    "cursor = db_connection.cursor()\n",
    "\n",
    "# Execute the SQL query\n",
    "query = \"\"\"\n",
    "SELECT wines.name, wines.ratings_average, wines.ratings_count, vintages.year, vintages.price_euros\n",
    "FROM wines\n",
    "JOIN vintages ON wines.id = vintages.wine_id\n",
    "ORDER BY wines.ratings_average DESC, wines.ratings_count DESC\n",
    "LIMIT 10;\n",
    "\"\"\"\n",
    "\n",
    "cursor.execute(query)\n",
    "result = cursor.fetchall()\n",
    "\n",
    "# Print the result\n",
    "for row in result:\n",
    "    wine_name, rating_avarage, rating_count, year, price_euros=row\n",
    "\n",
    "    print(f'Wine Name: {wine_name}, Average Rating: {rating_avarage}, Count Rating:{rating_count}, Year: {year}, Price (Euros): {price_euros}')\n",
    "\n",
    "# Close the cursor and connection\n",
    "cursor.close()\n",
    "db_connection.close()"
   ]
  },
  {
   "cell_type": "markdown",
   "metadata": {},
   "source": [
    "Our goal is to select wines that have a high average rating, a significant number of ratings, and an affordable price. We will focus on wines with a price under 50 euros to make them accessible to a wider range of customers."
   ]
  },
  {
   "cell_type": "code",
   "execution_count": 2,
   "metadata": {},
   "outputs": [
    {
     "name": "stdout",
     "output_type": "stream",
     "text": [
      "Wine Name: 60 Sessantanni Old Vines Primitivo di Manduria, Average Rating: 4.5, Count Rating:94289, Year: 2018, Price (Euros): 24.75\n",
      "Wine Name: Limited Edition 10 Vendemmie, Average Rating: 4.5, Count Rating:9453, Year: N.V., Price (Euros): 34.2\n",
      "Wine Name: Lupi Rezerva, Average Rating: 4.5, Count Rating:7604, Year: 2017, Price (Euros): 36.55\n",
      "Wine Name: Cosimo Varvaglione Collezione Privata Primitivo di Manduria, Average Rating: 4.5, Count Rating:5016, Year: 2019, Price (Euros): 31.45\n",
      "Wine Name: Kalós Cru Gran Reserva Malbec, Average Rating: 4.5, Count Rating:3351, Year: 2018, Price (Euros): 34.85\n",
      "Wine Name: Negru de Purcari Limited Edition, Average Rating: 4.5, Count Rating:970, Year: 2019, Price (Euros): 33.17\n",
      "Wine Name: Yarden Katzrin, Average Rating: 4.5, Count Rating:894, Year: 2021, Price (Euros): 37.05\n",
      "Wine Name: Terrasse à l'Ombre Côtes du Rhône, Average Rating: 4.5, Count Rating:819, Year: 2018, Price (Euros): 34.95\n",
      "Wine Name: Vinhas Velhas Tinto, Average Rating: 4.5, Count Rating:736, Year: 2019, Price (Euros): 29.95\n",
      "Wine Name: Ice Wine de Purcari, Average Rating: 4.5, Count Rating:722, Year: 2017, Price (Euros): 33.17\n"
     ]
    }
   ],
   "source": [
    "import sqlite3\n",
    "\n",
    "# Connect to the database\n",
    "db_connection = sqlite3.connect('../data/vivino.db')\n",
    "cursor = db_connection.cursor()\n",
    "\n",
    "# Execute the SQL query\n",
    "query = \"\"\"\n",
    "SELECT wines.name, wines.ratings_average, wines.ratings_count, vintages.year, vintages.price_euros\n",
    "FROM wines\n",
    "JOIN vintages ON wines.id = vintages.wine_id\n",
    "WHERE vintages.price_euros < 50\n",
    "ORDER BY wines.ratings_average DESC, wines.ratings_count DESC, vintages.price_euros ASC\n",
    "LIMIT 10;\n",
    "\"\"\"\n",
    "\n",
    "cursor.execute(query)\n",
    "result = cursor.fetchall()\n",
    "\n",
    "# Print the result\n",
    "for row in result:\n",
    "    wine_name, rating_avarage, rating_count, year, price_euros=row\n",
    "\n",
    "    print(f'Wine Name: {wine_name}, Average Rating: {rating_avarage}, Count Rating:{rating_count}, Year: {year}, Price (Euros): {price_euros}')\n",
    "\n",
    "# Close the cursor and connection\n",
    "cursor.close()\n",
    "db_connection.close()"
   ]
  },
  {
   "cell_type": "markdown",
   "metadata": {},
   "source": [
    "Now, let's analyze why we selected these wines and provide recommendations for the marketing strategy.\n",
    "\n",
    "We have selected these wines based on the following criteria:\n",
    "\n",
    "#### Average Rating: \n",
    "We prioritize wines with high average ratings, as they indicate a good overall quality that customers are likely to appreciate.\n",
    "#### Rating Count: \n",
    "Wines with a significant number of ratings demonstrate popularity and consumer trust. This can encourage potential buyers to try these wines.\n",
    "#### Price:\n",
    " By choosing wines priced under 50 euros, we ensure that the highlighted wines are accessible to a broader range of customers."
   ]
  }
 ],
 "metadata": {
  "kernelspec": {
   "display_name": "Python 3",
   "language": "python",
   "name": "python3"
  },
  "language_info": {
   "codemirror_mode": {
    "name": "ipython",
    "version": 3
   },
   "file_extension": ".py",
   "mimetype": "text/x-python",
   "name": "python",
   "nbconvert_exporter": "python",
   "pygments_lexer": "ipython3",
   "version": "3.11.4"
  },
  "orig_nbformat": 4
 },
 "nbformat": 4,
 "nbformat_minor": 2
}
