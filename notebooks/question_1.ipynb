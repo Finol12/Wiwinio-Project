{
 "cells": [
  {
   "cell_type": "markdown",
   "metadata": {},
   "source": [
    "# Wine Selection for Sales Boost"
   ]
  },
  {
   "cell_type": "markdown",
   "metadata": {},
   "source": [
    "In this notebook, we will explore the database of wines and vintages to identify the top wines that we can highlight to increase sales.\n",
    "Our selection will be based on factors such as average rating, rating count, and affordability. "
   ]
  },
  {
   "cell_type": "code",
   "execution_count": 6,
   "metadata": {},
   "outputs": [],
   "source": [
    "import sqlite3\n",
    "import pandas as pd\n",
    "import numpy as np\n",
    "\n",
    "import matplotlib.pyplot as plt\n",
    "import seaborn as sns"
   ]
  },
  {
   "cell_type": "code",
   "execution_count": 7,
   "metadata": {},
   "outputs": [],
   "source": [
    "# Connect to the database\n",
    "connection = sqlite3.connect('../data/vivino.db')\n",
    "cursor = connection.cursor()"
   ]
  },
  {
   "cell_type": "code",
   "execution_count": 8,
   "metadata": {},
   "outputs": [
    {
     "name": "stdout",
     "output_type": "stream",
     "text": [
      "(10, 6)\n"
     ]
    },
    {
     "data": {
      "text/html": [
       "<div>\n",
       "<style scoped>\n",
       "    .dataframe tbody tr th:only-of-type {\n",
       "        vertical-align: middle;\n",
       "    }\n",
       "\n",
       "    .dataframe tbody tr th {\n",
       "        vertical-align: top;\n",
       "    }\n",
       "\n",
       "    .dataframe thead th {\n",
       "        text-align: right;\n",
       "    }\n",
       "</style>\n",
       "<table border=\"1\" class=\"dataframe\">\n",
       "  <thead>\n",
       "    <tr style=\"text-align: right;\">\n",
       "      <th></th>\n",
       "      <th>id</th>\n",
       "      <th>name</th>\n",
       "      <th>ratings_average</th>\n",
       "      <th>ratings_count</th>\n",
       "      <th>year</th>\n",
       "      <th>price_euros</th>\n",
       "    </tr>\n",
       "  </thead>\n",
       "  <tbody>\n",
       "    <tr>\n",
       "      <th>0</th>\n",
       "      <td>1611255</td>\n",
       "      <td>Cabernet Sauvignon</td>\n",
       "      <td>4.8</td>\n",
       "      <td>2941</td>\n",
       "      <td>2015</td>\n",
       "      <td>1558.75</td>\n",
       "    </tr>\n",
       "    <tr>\n",
       "      <th>1</th>\n",
       "      <td>1187886</td>\n",
       "      <td>Amarone della Valpolicella Classico Riserva</td>\n",
       "      <td>4.8</td>\n",
       "      <td>587</td>\n",
       "      <td>2011</td>\n",
       "      <td>1046.25</td>\n",
       "    </tr>\n",
       "    <tr>\n",
       "      <th>2</th>\n",
       "      <td>6534388</td>\n",
       "      <td>Fratini Bolgheri Superiore</td>\n",
       "      <td>4.8</td>\n",
       "      <td>153</td>\n",
       "      <td>2018</td>\n",
       "      <td>262.60</td>\n",
       "    </tr>\n",
       "    <tr>\n",
       "      <th>3</th>\n",
       "      <td>5806244</td>\n",
       "      <td>Mágico</td>\n",
       "      <td>4.8</td>\n",
       "      <td>146</td>\n",
       "      <td>2019</td>\n",
       "      <td>480.00</td>\n",
       "    </tr>\n",
       "    <tr>\n",
       "      <th>4</th>\n",
       "      <td>7266631</td>\n",
       "      <td>Cristal Rosé Vinothèque</td>\n",
       "      <td>4.8</td>\n",
       "      <td>88</td>\n",
       "      <td>2000</td>\n",
       "      <td>1600.00</td>\n",
       "    </tr>\n",
       "    <tr>\n",
       "      <th>5</th>\n",
       "      <td>9330771</td>\n",
       "      <td>Batard-Montrachet Grand Cru</td>\n",
       "      <td>4.8</td>\n",
       "      <td>34</td>\n",
       "      <td>2020</td>\n",
       "      <td>1149.50</td>\n",
       "    </tr>\n",
       "    <tr>\n",
       "      <th>6</th>\n",
       "      <td>77137</td>\n",
       "      <td>Unico</td>\n",
       "      <td>4.7</td>\n",
       "      <td>45140</td>\n",
       "      <td>2012</td>\n",
       "      <td>410.00</td>\n",
       "    </tr>\n",
       "    <tr>\n",
       "      <th>7</th>\n",
       "      <td>77137</td>\n",
       "      <td>Unico</td>\n",
       "      <td>4.7</td>\n",
       "      <td>45140</td>\n",
       "      <td>2013</td>\n",
       "      <td>445.00</td>\n",
       "    </tr>\n",
       "    <tr>\n",
       "      <th>8</th>\n",
       "      <td>77137</td>\n",
       "      <td>Unico</td>\n",
       "      <td>4.7</td>\n",
       "      <td>45140</td>\n",
       "      <td>1965</td>\n",
       "      <td>1040.60</td>\n",
       "    </tr>\n",
       "    <tr>\n",
       "      <th>9</th>\n",
       "      <td>1153863</td>\n",
       "      <td>Sauternes</td>\n",
       "      <td>4.7</td>\n",
       "      <td>44126</td>\n",
       "      <td>2005</td>\n",
       "      <td>928.30</td>\n",
       "    </tr>\n",
       "  </tbody>\n",
       "</table>\n",
       "</div>"
      ],
      "text/plain": [
       "        id                                         name  ratings_average  \\\n",
       "0  1611255                           Cabernet Sauvignon              4.8   \n",
       "1  1187886  Amarone della Valpolicella Classico Riserva              4.8   \n",
       "2  6534388                   Fratini Bolgheri Superiore              4.8   \n",
       "3  5806244                                       Mágico              4.8   \n",
       "4  7266631                      Cristal Rosé Vinothèque              4.8   \n",
       "5  9330771                  Batard-Montrachet Grand Cru              4.8   \n",
       "6    77137                                        Unico              4.7   \n",
       "7    77137                                        Unico              4.7   \n",
       "8    77137                                        Unico              4.7   \n",
       "9  1153863                                    Sauternes              4.7   \n",
       "\n",
       "   ratings_count  year  price_euros  \n",
       "0           2941  2015      1558.75  \n",
       "1            587  2011      1046.25  \n",
       "2            153  2018       262.60  \n",
       "3            146  2019       480.00  \n",
       "4             88  2000      1600.00  \n",
       "5             34  2020      1149.50  \n",
       "6          45140  2012       410.00  \n",
       "7          45140  2013       445.00  \n",
       "8          45140  1965      1040.60  \n",
       "9          44126  2005       928.30  "
      ]
     },
     "metadata": {},
     "output_type": "display_data"
    }
   ],
   "source": [
    "# Execute the SQL query\n",
    "query = \"\"\"\n",
    "    SELECT wines.id, \n",
    "           wines.name, \n",
    "           wines.ratings_average, \n",
    "           wines.ratings_count, \n",
    "           vintages.year, \n",
    "           vintages.price_euros\n",
    "    FROM wines\n",
    "        JOIN vintages ON wines.id = vintages.wine_id\n",
    "    ORDER BY wines.ratings_average DESC, \n",
    "             wines.ratings_count DESC\n",
    "    LIMIT 10;\n",
    "\"\"\"\n",
    "\n",
    "cursor.execute(query)\n",
    "result = cursor.fetchall()\n",
    "\n",
    "# Print the result\n",
    "# for row in result:\n",
    "#    wine_name, rating_avarage, rating_count, year, price_euros=row\n",
    "#    print(f'Wine Name: {wine_name}, Average Rating: {rating_avarage}, Count Rating:{rating_count}, Year: {year}, Price (Euros): {price_euros}')\n",
    "\n",
    "df = pd.read_sql_query(query, connection)\n",
    "print(df.shape)\n",
    "display(df)\n",
    "df.to_csv(\"../data/csv/question_1_0.csv\")"
   ]
  },
  {
   "cell_type": "markdown",
   "metadata": {},
   "source": [
    "Our goal is to select wines that have a high average rating, a significant number of ratings, and an affordable price. We will focus on wines with a price under 50 euros to make them accessible to a wider range of customers."
   ]
  },
  {
   "cell_type": "code",
   "execution_count": 9,
   "metadata": {},
   "outputs": [
    {
     "name": "stdout",
     "output_type": "stream",
     "text": [
<<<<<<< HEAD
      "Wine Name: 60 Sessantanni Old Vines Primitivo di Manduria, Average Rating: 4.5, Count Rating:94289, Year: 2018, Price (Euros): 24.75\n",
      "Wine Name: Limited Edition 10 Vendemmie, Average Rating: 4.5, Count Rating:9453, Year: N.V., Price (Euros): 34.2\n",
      "Wine Name: Lupi Rezerva, Average Rating: 4.5, Count Rating:7604, Year: 2017, Price (Euros): 36.55\n",
      "Wine Name: Cosimo Varvaglione Collezione Privata Primitivo di Manduria, Average Rating: 4.5, Count Rating:5016, Year: 2019, Price (Euros): 31.45\n",
      "Wine Name: Kalós Cru Gran Reserva Malbec, Average Rating: 4.5, Count Rating:3351, Year: 2018, Price (Euros): 34.85\n",
      "Wine Name: Negru de Purcari Limited Edition, Average Rating: 4.5, Count Rating:970, Year: 2019, Price (Euros): 33.17\n",
      "Wine Name: Yarden Katzrin, Average Rating: 4.5, Count Rating:894, Year: 2021, Price (Euros): 37.05\n",
      "Wine Name: Terrasse à l'Ombre Côtes du Rhône, Average Rating: 4.5, Count Rating:819, Year: 2018, Price (Euros): 34.95\n",
      "Wine Name: Vinhas Velhas Tinto, Average Rating: 4.5, Count Rating:736, Year: 2019, Price (Euros): 29.95\n",
      "Wine Name: Ice Wine de Purcari, Average Rating: 4.5, Count Rating:722, Year: 2017, Price (Euros): 33.17\n",
      "(10, 5)\n"
=======
      "(10, 6)\n"
>>>>>>> 2db7a75770c3b0f9a8648cd6ca6ab6f637637304
     ]
    },
    {
     "data": {
      "text/html": [
       "<div>\n",
       "<style scoped>\n",
       "    .dataframe tbody tr th:only-of-type {\n",
       "        vertical-align: middle;\n",
       "    }\n",
       "\n",
       "    .dataframe tbody tr th {\n",
       "        vertical-align: top;\n",
       "    }\n",
       "\n",
       "    .dataframe thead th {\n",
       "        text-align: right;\n",
       "    }\n",
       "</style>\n",
       "<table border=\"1\" class=\"dataframe\">\n",
       "  <thead>\n",
       "    <tr style=\"text-align: right;\">\n",
       "      <th></th>\n",
<<<<<<< HEAD
=======
       "      <th>id</th>\n",
>>>>>>> 2db7a75770c3b0f9a8648cd6ca6ab6f637637304
       "      <th>name</th>\n",
       "      <th>ratings_average</th>\n",
       "      <th>ratings_count</th>\n",
       "      <th>year</th>\n",
       "      <th>price_euros</th>\n",
       "    </tr>\n",
       "  </thead>\n",
       "  <tbody>\n",
       "    <tr>\n",
       "      <th>0</th>\n",
<<<<<<< HEAD
=======
       "      <td>11890</td>\n",
>>>>>>> 2db7a75770c3b0f9a8648cd6ca6ab6f637637304
       "      <td>60 Sessantanni Old Vines Primitivo di Manduria</td>\n",
       "      <td>4.5</td>\n",
       "      <td>94289</td>\n",
       "      <td>2018</td>\n",
       "      <td>24.75</td>\n",
       "    </tr>\n",
       "    <tr>\n",
       "      <th>1</th>\n",
<<<<<<< HEAD
=======
       "      <td>6139455</td>\n",
>>>>>>> 2db7a75770c3b0f9a8648cd6ca6ab6f637637304
       "      <td>Limited Edition 10 Vendemmie</td>\n",
       "      <td>4.5</td>\n",
       "      <td>9453</td>\n",
       "      <td>N.V.</td>\n",
       "      <td>34.20</td>\n",
       "    </tr>\n",
       "    <tr>\n",
       "      <th>2</th>\n",
<<<<<<< HEAD
=======
       "      <td>1468452</td>\n",
>>>>>>> 2db7a75770c3b0f9a8648cd6ca6ab6f637637304
       "      <td>Lupi Rezerva</td>\n",
       "      <td>4.5</td>\n",
       "      <td>7604</td>\n",
       "      <td>2017</td>\n",
       "      <td>36.55</td>\n",
       "    </tr>\n",
       "    <tr>\n",
       "      <th>3</th>\n",
<<<<<<< HEAD
=======
       "      <td>4291453</td>\n",
>>>>>>> 2db7a75770c3b0f9a8648cd6ca6ab6f637637304
       "      <td>Cosimo Varvaglione Collezione Privata Primitiv...</td>\n",
       "      <td>4.5</td>\n",
       "      <td>5016</td>\n",
       "      <td>2019</td>\n",
       "      <td>31.45</td>\n",
       "    </tr>\n",
       "    <tr>\n",
       "      <th>4</th>\n",
<<<<<<< HEAD
=======
       "      <td>5532640</td>\n",
>>>>>>> 2db7a75770c3b0f9a8648cd6ca6ab6f637637304
       "      <td>Kalós Cru Gran Reserva Malbec</td>\n",
       "      <td>4.5</td>\n",
       "      <td>3351</td>\n",
       "      <td>2018</td>\n",
       "      <td>34.85</td>\n",
       "    </tr>\n",
       "    <tr>\n",
       "      <th>5</th>\n",
<<<<<<< HEAD
=======
       "      <td>2669625</td>\n",
>>>>>>> 2db7a75770c3b0f9a8648cd6ca6ab6f637637304
       "      <td>Negru de Purcari Limited Edition</td>\n",
       "      <td>4.5</td>\n",
       "      <td>970</td>\n",
       "      <td>2019</td>\n",
       "      <td>33.17</td>\n",
       "    </tr>\n",
       "    <tr>\n",
       "      <th>6</th>\n",
<<<<<<< HEAD
=======
       "      <td>1151275</td>\n",
>>>>>>> 2db7a75770c3b0f9a8648cd6ca6ab6f637637304
       "      <td>Yarden Katzrin</td>\n",
       "      <td>4.5</td>\n",
       "      <td>894</td>\n",
       "      <td>2021</td>\n",
       "      <td>37.05</td>\n",
       "    </tr>\n",
       "    <tr>\n",
       "      <th>7</th>\n",
<<<<<<< HEAD
=======
       "      <td>7830543</td>\n",
>>>>>>> 2db7a75770c3b0f9a8648cd6ca6ab6f637637304
       "      <td>Terrasse à l'Ombre Côtes du Rhône</td>\n",
       "      <td>4.5</td>\n",
       "      <td>819</td>\n",
       "      <td>2018</td>\n",
       "      <td>34.95</td>\n",
       "    </tr>\n",
       "    <tr>\n",
       "      <th>8</th>\n",
<<<<<<< HEAD
=======
       "      <td>7335944</td>\n",
>>>>>>> 2db7a75770c3b0f9a8648cd6ca6ab6f637637304
       "      <td>Vinhas Velhas Tinto</td>\n",
       "      <td>4.5</td>\n",
       "      <td>736</td>\n",
       "      <td>2019</td>\n",
       "      <td>29.95</td>\n",
       "    </tr>\n",
       "    <tr>\n",
       "      <th>9</th>\n",
<<<<<<< HEAD
=======
       "      <td>1579011</td>\n",
>>>>>>> 2db7a75770c3b0f9a8648cd6ca6ab6f637637304
       "      <td>Ice Wine de Purcari</td>\n",
       "      <td>4.5</td>\n",
       "      <td>722</td>\n",
       "      <td>2017</td>\n",
       "      <td>33.17</td>\n",
       "    </tr>\n",
       "  </tbody>\n",
       "</table>\n",
       "</div>"
      ],
      "text/plain": [
<<<<<<< HEAD
       "                                                name  ratings_average  \\\n",
       "0     60 Sessantanni Old Vines Primitivo di Manduria              4.5   \n",
       "1                       Limited Edition 10 Vendemmie              4.5   \n",
       "2                                       Lupi Rezerva              4.5   \n",
       "3  Cosimo Varvaglione Collezione Privata Primitiv...              4.5   \n",
       "4                      Kalós Cru Gran Reserva Malbec              4.5   \n",
       "5                   Negru de Purcari Limited Edition              4.5   \n",
       "6                                     Yarden Katzrin              4.5   \n",
       "7                  Terrasse à l'Ombre Côtes du Rhône              4.5   \n",
       "8                                Vinhas Velhas Tinto              4.5   \n",
       "9                                Ice Wine de Purcari              4.5   \n",
       "\n",
       "   ratings_count  year  price_euros  \n",
       "0          94289  2018        24.75  \n",
       "1           9453  N.V.        34.20  \n",
       "2           7604  2017        36.55  \n",
       "3           5016  2019        31.45  \n",
       "4           3351  2018        34.85  \n",
       "5            970  2019        33.17  \n",
       "6            894  2021        37.05  \n",
       "7            819  2018        34.95  \n",
       "8            736  2019        29.95  \n",
       "9            722  2017        33.17  "
=======
       "        id                                               name  \\\n",
       "0    11890     60 Sessantanni Old Vines Primitivo di Manduria   \n",
       "1  6139455                       Limited Edition 10 Vendemmie   \n",
       "2  1468452                                       Lupi Rezerva   \n",
       "3  4291453  Cosimo Varvaglione Collezione Privata Primitiv...   \n",
       "4  5532640                      Kalós Cru Gran Reserva Malbec   \n",
       "5  2669625                   Negru de Purcari Limited Edition   \n",
       "6  1151275                                     Yarden Katzrin   \n",
       "7  7830543                  Terrasse à l'Ombre Côtes du Rhône   \n",
       "8  7335944                                Vinhas Velhas Tinto   \n",
       "9  1579011                                Ice Wine de Purcari   \n",
       "\n",
       "   ratings_average  ratings_count  year  price_euros  \n",
       "0              4.5          94289  2018        24.75  \n",
       "1              4.5           9453  N.V.        34.20  \n",
       "2              4.5           7604  2017        36.55  \n",
       "3              4.5           5016  2019        31.45  \n",
       "4              4.5           3351  2018        34.85  \n",
       "5              4.5            970  2019        33.17  \n",
       "6              4.5            894  2021        37.05  \n",
       "7              4.5            819  2018        34.95  \n",
       "8              4.5            736  2019        29.95  \n",
       "9              4.5            722  2017        33.17  "
>>>>>>> 2db7a75770c3b0f9a8648cd6ca6ab6f637637304
      ]
     },
     "metadata": {},
     "output_type": "display_data"
    }
   ],
   "source": [
<<<<<<< HEAD
    "import sqlite3\n",
    "import pandas as pd\n",
    "import matplotlib.pyplot as plt\n",
    "import seaborn as sns\n",
    "\n",
    "\n",
    "# Connect to the database\n",
    "db_connection = sqlite3.connect('../data/vivino.db')\n",
    "cursor = db_connection.cursor()\n",
    "\n",
=======
>>>>>>> 2db7a75770c3b0f9a8648cd6ca6ab6f637637304
    "# Execute the SQL query\n",
    "query = \"\"\"\n",
    "    SELECT wines.id,\n",
    "           wines.name, \n",
    "           wines.ratings_average, \n",
    "           wines.ratings_count, \n",
    "           vintages.year, \n",
    "           vintages.price_euros\n",
    "    FROM wines\n",
    "        JOIN vintages ON wines.id = vintages.wine_id\n",
    "    WHERE vintages.price_euros < 50\n",
    "    ORDER BY wines.ratings_average DESC, \n",
    "             wines.ratings_count DESC, \n",
    "             vintages.price_euros ASC\n",
    "    LIMIT 10;\n",
    "\"\"\"\n",
    "\n",
    "cursor.execute(query)\n",
    "result = cursor.fetchall()\n",
    "\n",
    "# Print the result\n",
    "# for row in result:\n",
    "#    wine_name, rating_avarage, rating_count, year, price_euros=row\n",
    "#    print(f'Wine Name: {wine_name}, Average Rating: {rating_avarage}, Count Rating:{rating_count}, Year: {year}, Price (Euros): {price_euros}')\n",
    "\n",
<<<<<<< HEAD
    "df_query = pd.read_sql_query(query, db_connection)\n",
    "print(df_query.shape)\n",
    "display(df_query)\n",
    "df_query.to_csv(\"../data/csv/question_1_0.csv\")\n",
    "\n",
=======
    "df = pd.read_sql_query(query, connection)\n",
    "print(df.shape)\n",
    "display(df)\n",
    "df.to_csv(\"../data/csv/question_1_1.csv\")"
   ]
  },
  {
   "cell_type": "code",
   "execution_count": 10,
   "metadata": {},
   "outputs": [],
   "source": [
>>>>>>> 2db7a75770c3b0f9a8648cd6ca6ab6f637637304
    "# Close the cursor and connection\n",
    "cursor.close()\n",
    "connection.close()"
   ]
  },
  {
   "cell_type": "markdown",
   "metadata": {},
   "source": [
    "Now, let's analyze why we selected these wines and provide recommendations for the marketing strategy.\n",
    "\n",
    "We have selected these wines based on the following criteria:\n",
    "\n",
    "#### Average Rating: \n",
    "We prioritize wines with high average ratings, as they indicate a good overall quality that customers are likely to appreciate.\n",
    "#### Rating Count: \n",
    "Wines with a significant number of ratings demonstrate popularity and consumer trust. This can encourage potential buyers to try these wines.\n",
    "#### Price:\n",
    " By choosing wines priced under 50 euros, we ensure that the highlighted wines are accessible to a broader range of customers."
   ]
  }
 ],
 "metadata": {
  "kernelspec": {
   "display_name": "Python 3",
   "language": "python",
   "name": "python3"
  },
  "language_info": {
   "codemirror_mode": {
    "name": "ipython",
    "version": 3
   },
   "file_extension": ".py",
   "mimetype": "text/x-python",
   "name": "python",
   "nbconvert_exporter": "python",
   "pygments_lexer": "ipython3",
   "version": "3.11.3"
  },
  "orig_nbformat": 4
 },
 "nbformat": 4,
 "nbformat_minor": 2
}
