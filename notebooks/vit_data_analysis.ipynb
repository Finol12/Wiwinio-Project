{
 "cells": [
  {
   "cell_type": "code",
   "execution_count": 110,
   "metadata": {},
   "outputs": [],
   "source": [
    "# import sqlalchemy\n",
    "import sqlite3\n",
    "import pandas as pd"
   ]
  },
  {
   "cell_type": "code",
   "execution_count": 129,
   "metadata": {},
   "outputs": [],
   "source": [
    "import matplotlib.pyplot as plt\n",
    "import seaborn as sns"
   ]
  },
  {
   "cell_type": "code",
   "execution_count": 111,
   "metadata": {},
   "outputs": [],
   "source": [
    "# Connect to SQLite database\n",
    "connection = sqlite3.connect(r'../data/vivino.db')\n",
    "# Create a cursor object\n",
    "cursor = connection.cursor()"
   ]
  },
  {
   "cell_type": "code",
   "execution_count": 112,
   "metadata": {},
   "outputs": [
    {
     "data": {
      "text/plain": [
       "[('it', 'Italie', 563, 4270717, 274658, 42399),\n",
       " ('fr', 'France', 1306, 5973301, 422503, 67553),\n",
       " ('us', 'États-Unis', 362, 12273684, 204060, 28145),\n",
       " ('es', 'Espagne', 152, 2264396, 102662, 18026),\n",
       " ('pt', 'Portugal', 93, 1123535, 39847, 5834),\n",
       " ('au', 'Australie', 120, 1022965, 90954, 13946),\n",
       " ('hu', 'Hongrie', 29, 102235, 16605, 1923),\n",
       " ('za', 'Afrique du Sud', 112, 269649, 30857, 4227),\n",
       " ('de', 'Allemagne', 236, 2549989, 164533, 13643),\n",
       " ('cl', 'Chili', 41, 326757, 41191, 5785)]"
      ]
     },
     "execution_count": 112,
     "metadata": {},
     "output_type": "execute_result"
    }
   ],
   "source": [
    "cursor.execute(\"\"\"\n",
    "    SELECT *\n",
    "    FROM countries\n",
    "    LIMIT 10;\n",
    "\"\"\")\n",
    "cursor.fetchall()"
   ]
  },
  {
   "cell_type": "code",
   "execution_count": 113,
   "metadata": {},
   "outputs": [
    {
     "name": "stdout",
     "output_type": "stream",
     "text": [
      "(94, 5)\n"
     ]
    },
    {
     "data": {
      "text/html": [
       "<div>\n",
       "<style scoped>\n",
       "    .dataframe tbody tr th:only-of-type {\n",
       "        vertical-align: middle;\n",
       "    }\n",
       "\n",
       "    .dataframe tbody tr th {\n",
       "        vertical-align: top;\n",
       "    }\n",
       "\n",
       "    .dataframe thead th {\n",
       "        text-align: right;\n",
       "    }\n",
       "</style>\n",
       "<table border=\"1\" class=\"dataframe\">\n",
       "  <thead>\n",
       "    <tr style=\"text-align: right;\">\n",
       "      <th></th>\n",
       "      <th>country_code</th>\n",
       "      <th>country_name</th>\n",
       "      <th>region</th>\n",
       "      <th>wine</th>\n",
       "      <th>winery</th>\n",
       "    </tr>\n",
       "  </thead>\n",
       "  <tbody>\n",
       "    <tr>\n",
       "      <th>0</th>\n",
       "      <td>es</td>\n",
       "      <td>Espagne</td>\n",
       "      <td>Rioja</td>\n",
       "      <td>Rioja 150 Aniversario</td>\n",
       "      <td>None</td>\n",
       "    </tr>\n",
       "    <tr>\n",
       "      <th>1</th>\n",
       "      <td>es</td>\n",
       "      <td>Espagne</td>\n",
       "      <td>Rioja</td>\n",
       "      <td>Torre Muga</td>\n",
       "      <td>None</td>\n",
       "    </tr>\n",
       "    <tr>\n",
       "      <th>2</th>\n",
       "      <td>es</td>\n",
       "      <td>Espagne</td>\n",
       "      <td>Ribera del Duero</td>\n",
       "      <td>Gran Reserva Ribera del Duero</td>\n",
       "      <td>None</td>\n",
       "    </tr>\n",
       "    <tr>\n",
       "      <th>3</th>\n",
       "      <td>es</td>\n",
       "      <td>Espagne</td>\n",
       "      <td>Rioja</td>\n",
       "      <td>Gran Reserva 890</td>\n",
       "      <td>None</td>\n",
       "    </tr>\n",
       "    <tr>\n",
       "      <th>4</th>\n",
       "      <td>es</td>\n",
       "      <td>Espagne</td>\n",
       "      <td>Rioja</td>\n",
       "      <td>Castillo Ygay Gran Reserva Especial Tinto</td>\n",
       "      <td>None</td>\n",
       "    </tr>\n",
       "  </tbody>\n",
       "</table>\n",
       "</div>"
      ],
      "text/plain": [
       "  country_code country_name            region  \\\n",
       "0           es      Espagne             Rioja   \n",
       "1           es      Espagne             Rioja   \n",
       "2           es      Espagne  Ribera del Duero   \n",
       "3           es      Espagne             Rioja   \n",
       "4           es      Espagne             Rioja   \n",
       "\n",
       "                                        wine winery  \n",
       "0                      Rioja 150 Aniversario   None  \n",
       "1                                 Torre Muga   None  \n",
       "2              Gran Reserva Ribera del Duero   None  \n",
       "3                           Gran Reserva 890   None  \n",
       "4  Castillo Ygay Gran Reserva Especial Tinto   None  "
      ]
     },
     "metadata": {},
     "output_type": "display_data"
    }
   ],
   "source": [
    "query = \"\"\"\n",
    "    SELECT countries.code AS country_code, \n",
    "           countries.name AS country_name, \n",
    "           regions.name AS region,\n",
    "           wines.name AS wine,\n",
    "           wineries.name AS winery\n",
    "    FROM countries\n",
    "        JOIN regions ON countries.code = regions.country_code\n",
    "        JOIN wines ON regions.id = wines.region_id\n",
    "        LEFT JOIN wineries ON wines.winery_id = wineries.id\n",
    "    WHERE countries.code = 'es';\n",
    "\"\"\"\n",
    "countries_df = pd.read_sql_query(query, connection)\n",
    "print(countries_df.shape)\n",
    "display(countries_df.head())"
   ]
  },
  {
   "cell_type": "code",
   "execution_count": 114,
   "metadata": {},
   "outputs": [
    {
     "name": "stdout",
     "output_type": "stream",
     "text": [
      "(1020, 1)\n"
     ]
    },
    {
     "data": {
      "text/html": [
       "<div>\n",
       "<style scoped>\n",
       "    .dataframe tbody tr th:only-of-type {\n",
       "        vertical-align: middle;\n",
       "    }\n",
       "\n",
       "    .dataframe tbody tr th {\n",
       "        vertical-align: top;\n",
       "    }\n",
       "\n",
       "    .dataframe thead th {\n",
       "        text-align: right;\n",
       "    }\n",
       "</style>\n",
       "<table border=\"1\" class=\"dataframe\">\n",
       "  <thead>\n",
       "    <tr style=\"text-align: right;\">\n",
       "      <th></th>\n",
       "      <th>name</th>\n",
       "    </tr>\n",
       "  </thead>\n",
       "  <tbody>\n",
       "    <tr>\n",
       "      <th>0</th>\n",
       "      <td>Vin Santo di Montepulciano</td>\n",
       "    </tr>\n",
       "    <tr>\n",
       "      <th>1</th>\n",
       "      <td>St. Henri Shiraz</td>\n",
       "    </tr>\n",
       "    <tr>\n",
       "      <th>2</th>\n",
       "      <td>Siepi</td>\n",
       "    </tr>\n",
       "    <tr>\n",
       "      <th>3</th>\n",
       "      <td>Solare Toscana</td>\n",
       "    </tr>\n",
       "    <tr>\n",
       "      <th>4</th>\n",
       "      <td>Tenuta Tignanello 'Solaia'</td>\n",
       "    </tr>\n",
       "  </tbody>\n",
       "</table>\n",
       "</div>"
      ],
      "text/plain": [
       "                         name\n",
       "0  Vin Santo di Montepulciano\n",
       "1            St. Henri Shiraz\n",
       "2                       Siepi\n",
       "3              Solare Toscana\n",
       "4  Tenuta Tignanello 'Solaia'"
      ]
     },
     "metadata": {},
     "output_type": "display_data"
    }
   ],
   "source": [
    "query_wineries = \"\"\" \n",
    "    SELECT name\n",
    "    FROM wineries;\n",
    "\"\"\"\n",
    "wineries_df = pd.read_sql_query(query_wineries, connection)\n",
    "print(wineries_df.shape)\n",
    "display(wineries_df.head())"
   ]
  },
  {
   "cell_type": "markdown",
   "metadata": {},
   "source": [
    "# Wine rating by country"
   ]
  },
  {
   "cell_type": "code",
   "execution_count": 130,
   "metadata": {},
   "outputs": [
    {
     "name": "stdout",
     "output_type": "stream",
     "text": [
      "(17, 3)\n"
     ]
    },
    {
     "data": {
      "text/html": [
       "<div>\n",
       "<style scoped>\n",
       "    .dataframe tbody tr th:only-of-type {\n",
       "        vertical-align: middle;\n",
       "    }\n",
       "\n",
       "    .dataframe tbody tr th {\n",
       "        vertical-align: top;\n",
       "    }\n",
       "\n",
       "    .dataframe thead th {\n",
       "        text-align: right;\n",
       "    }\n",
       "</style>\n",
       "<table border=\"1\" class=\"dataframe\">\n",
       "  <thead>\n",
       "    <tr style=\"text-align: right;\">\n",
       "      <th></th>\n",
       "      <th>code</th>\n",
       "      <th>country_name</th>\n",
       "      <th>rating</th>\n",
       "    </tr>\n",
       "  </thead>\n",
       "  <tbody>\n",
       "    <tr>\n",
       "      <th>0</th>\n",
       "      <td>il</td>\n",
       "      <td>Israël</td>\n",
       "      <td>4.50</td>\n",
       "    </tr>\n",
       "    <tr>\n",
       "      <th>1</th>\n",
       "      <td>de</td>\n",
       "      <td>Allemagne</td>\n",
       "      <td>4.50</td>\n",
       "    </tr>\n",
       "    <tr>\n",
       "      <th>2</th>\n",
       "      <td>us</td>\n",
       "      <td>États-Unis</td>\n",
       "      <td>4.49</td>\n",
       "    </tr>\n",
       "    <tr>\n",
       "      <th>3</th>\n",
       "      <td>md</td>\n",
       "      <td>Moldavie</td>\n",
       "      <td>4.48</td>\n",
       "    </tr>\n",
       "    <tr>\n",
       "      <th>4</th>\n",
       "      <td>hu</td>\n",
       "      <td>Hongrie</td>\n",
       "      <td>4.47</td>\n",
       "    </tr>\n",
       "  </tbody>\n",
       "</table>\n",
       "</div>"
      ],
      "text/plain": [
       "  code country_name  rating\n",
       "0   il       Israël    4.50\n",
       "1   de    Allemagne    4.50\n",
       "2   us   États-Unis    4.49\n",
       "3   md     Moldavie    4.48\n",
       "4   hu      Hongrie    4.47"
      ]
     },
     "metadata": {},
     "output_type": "display_data"
    }
   ],
   "source": [
    "query_wine_ratings_by_country = \"\"\"\n",
    "    SELECT countries.code AS code, \n",
    "           countries.name AS country_name,  \n",
    "           ROUND(AVG(wines.ratings_average), 2) AS rating\n",
    "    FROM countries\n",
    "        JOIN regions ON countries.code = regions.country_code\n",
    "        JOIN wines ON regions.id = wines.region_id\n",
    "    GROUP BY code\n",
    "    ORDER BY rating DESC;\n",
    "\"\"\"\n",
    "df_wine_ratings_by_country = pd.read_sql_query(query_wine_ratings_by_country, connection)\n",
    "print(df_wine_ratings_by_country.shape)\n",
    "display(df_wine_ratings_by_country.head())"
   ]
  },
  {
   "cell_type": "code",
   "execution_count": 136,
   "metadata": {},
   "outputs": [
    {
     "data": {
      "image/png": "[encoded data removed]",
      "text/plain": [
       "<Figure size 500x500 with 1 Axes>"
      ]
     },
     "metadata": {},
     "output_type": "display_data"
    },
    {
     "data": {
      "text/plain": [
       "<Figure size 640x480 with 0 Axes>"
      ]
     },
     "metadata": {},
     "output_type": "display_data"
    }
   ],
   "source": [
    "g1 = sns.catplot(\n",
    "\tx = \"country_name\",\n",
    "\ty = \"rating\",\n",
    "\tdata = df_wine_ratings_by_country,\n",
    "\tkind = \"bar\"\n",
    ")\n",
    "g1.tick_params(axis=\"x\", rotation=90)\n",
    "plt.show()\n",
    "plt.clf()"
   ]
  },
  {
   "cell_type": "markdown",
   "metadata": {},
   "source": [
    "# Vintage rating by country"
   ]
  },
  {
   "cell_type": "code",
   "execution_count": 140,
   "metadata": {},
   "outputs": [
    {
     "name": "stdout",
     "output_type": "stream",
     "text": [
      "(10, 3)\n"
     ]
    },
    {
     "data": {
      "text/html": [
       "<div>\n",
       "<style scoped>\n",
       "    .dataframe tbody tr th:only-of-type {\n",
       "        vertical-align: middle;\n",
       "    }\n",
       "\n",
       "    .dataframe tbody tr th {\n",
       "        vertical-align: top;\n",
       "    }\n",
       "\n",
       "    .dataframe thead th {\n",
       "        text-align: right;\n",
       "    }\n",
       "</style>\n",
       "<table border=\"1\" class=\"dataframe\">\n",
       "  <thead>\n",
       "    <tr style=\"text-align: right;\">\n",
       "      <th></th>\n",
       "      <th>code</th>\n",
       "      <th>country_name</th>\n",
       "      <th>rating</th>\n",
       "    </tr>\n",
       "  </thead>\n",
       "  <tbody>\n",
       "    <tr>\n",
       "      <th>0</th>\n",
       "      <td>ro</td>\n",
       "      <td>Roumanie</td>\n",
       "      <td>4.50</td>\n",
       "    </tr>\n",
       "    <tr>\n",
       "      <th>1</th>\n",
       "      <td>hr</td>\n",
       "      <td>Croatie</td>\n",
       "      <td>4.40</td>\n",
       "    </tr>\n",
       "    <tr>\n",
       "      <th>2</th>\n",
       "      <td>ar</td>\n",
       "      <td>Argentine</td>\n",
       "      <td>4.32</td>\n",
       "    </tr>\n",
       "    <tr>\n",
       "      <th>3</th>\n",
       "      <td>cl</td>\n",
       "      <td>Chili</td>\n",
       "      <td>4.12</td>\n",
       "    </tr>\n",
       "    <tr>\n",
       "      <th>4</th>\n",
       "      <td>pt</td>\n",
       "      <td>Portugal</td>\n",
       "      <td>3.93</td>\n",
       "    </tr>\n",
       "  </tbody>\n",
       "</table>\n",
       "</div>"
      ],
      "text/plain": [
       "  code country_name  rating\n",
       "0   ro     Roumanie    4.50\n",
       "1   hr      Croatie    4.40\n",
       "2   ar    Argentine    4.32\n",
       "3   cl        Chili    4.12\n",
       "4   pt     Portugal    3.93"
      ]
     },
     "metadata": {},
     "output_type": "display_data"
    }
   ],
   "source": [
    "query_vintage_ratings_by_country = \"\"\"\n",
    "    SELECT countries.code AS code, \n",
    "           countries.name AS country_name,  \n",
    "           ROUND(AVG(vintages.ratings_average), 2) AS rating\n",
    "    FROM countries\n",
    "        JOIN regions ON countries.code = regions.country_code\n",
    "        JOIN wines ON regions.id = wines.region_id\n",
    "        JOIN vintages ON wines.id = vintages.wine_id\n",
    "    GROUP BY code\n",
    "    ORDER BY rating DESC\n",
    "    LIMIT 10;\n",
    "\"\"\"\n",
    "df_vintage_ratings_by_country = pd.read_sql_query(query_vintage_ratings_by_country, connection)\n",
    "print(df_vintage_ratings_by_country.shape)\n",
    "display(df_vintage_ratings_by_country.head())"
   ]
  },
  {
   "cell_type": "code",
   "execution_count": 141,
   "metadata": {},
   "outputs": [
    {
     "data": {
      "image/png": "[encoded data removed]",
      "text/plain": [
       "<Figure size 500x500 with 1 Axes>"
      ]
     },
     "metadata": {},
     "output_type": "display_data"
    },
    {
     "data": {
      "text/plain": [
       "<Figure size 640x480 with 0 Axes>"
      ]
     },
     "metadata": {},
     "output_type": "display_data"
    }
   ],
   "source": [
    "g2 = sns.catplot(\n",
    "\tx = \"country_name\",\n",
    "\ty = \"rating\",\n",
    "\tdata = df_vintage_ratings_by_country,\n",
    "\tkind = \"bar\"\n",
    ")\n",
    "g2.tick_params(axis=\"x\", rotation=90)\n",
    "plt.show()\n",
    "plt.clf()"
   ]
  }
 ],
 "metadata": {
  "kernelspec": {
   "display_name": "_project_env",
   "language": "python",
   "name": "python3"
  },
  "language_info": {
   "codemirror_mode": {
    "name": "ipython",
    "version": 3
   },
   "file_extension": ".py",
   "mimetype": "text/x-python",
   "name": "python",
   "nbconvert_exporter": "python",
   "pygments_lexer": "ipython3",
   "version": "3.11.3"
  },
  "orig_nbformat": 4
 },
 "nbformat": 4,
 "nbformat_minor": 2
}
