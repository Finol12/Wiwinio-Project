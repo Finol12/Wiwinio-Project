{
 "cells": [
  {
   "cell_type": "markdown",
   "metadata": {},
   "source": [
    "# Analyzing Wine Countries: Marketing Prioritization"
   ]
  },
  {
   "cell_type": "markdown",
   "metadata": {},
   "source": [
    "\n",
    "In this notebook, we will analyze the wine countries in our database to determine which country we should prioritize for our marketing efforts this year.\n",
    "To make this decision, we'll consider factors such as average wine ratings, wine counts, and an impact score that takes into account both these factors."
   ]
  },
  {
   "cell_type": "markdown",
   "metadata": {},
   "source": [
    "#### Analyzing Average Rating and Wine Count\n",
    "\n",
    "We begin by analyzing both the average wine rating and wine count for each country. This helps us gain insights into the quality and variety of wines available in different countries. To achieve this, we utilize SQL queries and join the relevant tables in our database to gather information on countries, regions, and wines. By using the GROUP BY clause, we aggregate the data by country, calculating the average rating and wine count.\n",
    "\n",
    "For the first script, we order the results by average rating in descending order. This provides a ranked list of countries where the wines are highly rated by consumers.\n",
    "\n",
    "For the second script, we order the results by wine count in descending order. This gives us a ranked list of countries that offer a large variety of wines.\n"
   ]
  },
  {
   "cell_type": "code",
   "execution_count": 1,
   "metadata": {},
   "outputs": [
    {
     "name": "stdout",
     "output_type": "stream",
     "text": [
      "Country: Allemagne, Average Rating: 4.50, Wine Count: 14\n",
      "Country: Israël, Average Rating: 4.50, Wine Count: 1\n",
      "Country: États-Unis, Average Rating: 4.49, Wine Count: 74\n",
      "Country: Moldavie, Average Rating: 4.48, Wine Count: 5\n",
      "Country: Hongrie, Average Rating: 4.47, Wine Count: 11\n",
      "Country: Afrique du Sud, Average Rating: 4.46, Wine Count: 22\n",
      "Country: Australie, Average Rating: 4.46, Wine Count: 12\n",
      "Country: France, Average Rating: 4.45, Wine Count: 331\n",
      "Country: Espagne, Average Rating: 4.44, Wine Count: 94\n",
      "Country: Portugal, Average Rating: 4.44, Wine Count: 28\n",
      "Country: Chili, Average Rating: 4.43, Wine Count: 16\n",
      "Country: Italie, Average Rating: 4.43, Wine Count: 383\n",
      "Country: Argentine, Average Rating: 4.42, Wine Count: 23\n",
      "Country: Roumanie, Average Rating: 4.40, Wine Count: 1\n",
      "Country: Grèce, Average Rating: 4.40, Wine Count: 2\n",
      "Country: Suisse, Average Rating: 4.35, Wine Count: 2\n",
      "Country: Croatie, Average Rating: 4.30, Wine Count: 1\n"
     ]
    }
   ],
   "source": [
    "#order by rating average\n",
    "import sqlite3\n",
    "\n",
    "# Connect to the database\n",
    "db_connection = sqlite3.connect('../data/vivino.db')\n",
    "cursor = db_connection.cursor()\n",
    "\n",
    "# Execute the SQL query to calculate average rating and wine count per country and order by average rating\n",
    "query = \"\"\"\n",
    "SELECT countries.name, \n",
    "       AVG(wines.ratings_average), \n",
    "       COUNT(wines.id)\n",
    "FROM countries\n",
    "JOIN regions ON countries.code = regions.country_code\n",
    "JOIN wines ON regions.id = wines.region_id\n",
    "GROUP BY countries.name\n",
    "ORDER BY AVG(wines.ratings_average) DESC;\n",
    "\"\"\"\n",
    "\n",
    "cursor.execute(query)\n",
    "result = cursor.fetchall()\n",
    "\n",
    "# Print the result\n",
    "for row in result:\n",
    "    country_name, avg_rating, wine_count = row\n",
    "    print(f\"Country: {country_name}, Average Rating: {avg_rating:.2f}, Wine Count: {wine_count}\")\n",
    "\n",
    "# Close the cursor and connection\n",
    "cursor.close()\n",
    "db_connection.close()"
   ]
  },
  {
   "cell_type": "code",
   "execution_count": 2,
   "metadata": {},
   "outputs": [
    {
     "name": "stdout",
     "output_type": "stream",
     "text": [
      "Country: Italie, Average Rating: 4.43, Wine Count: 383\n",
      "Country: France, Average Rating: 4.45, Wine Count: 331\n",
      "Country: Espagne, Average Rating: 4.44, Wine Count: 94\n",
      "Country: États-Unis, Average Rating: 4.49, Wine Count: 74\n",
      "Country: Portugal, Average Rating: 4.44, Wine Count: 28\n",
      "Country: Argentine, Average Rating: 4.42, Wine Count: 23\n",
      "Country: Afrique du Sud, Average Rating: 4.46, Wine Count: 22\n",
      "Country: Chili, Average Rating: 4.43, Wine Count: 16\n",
      "Country: Allemagne, Average Rating: 4.50, Wine Count: 14\n",
      "Country: Australie, Average Rating: 4.46, Wine Count: 12\n",
      "Country: Hongrie, Average Rating: 4.47, Wine Count: 11\n",
      "Country: Moldavie, Average Rating: 4.48, Wine Count: 5\n",
      "Country: Suisse, Average Rating: 4.35, Wine Count: 2\n",
      "Country: Grèce, Average Rating: 4.40, Wine Count: 2\n",
      "Country: Roumanie, Average Rating: 4.40, Wine Count: 1\n",
      "Country: Israël, Average Rating: 4.50, Wine Count: 1\n",
      "Country: Croatie, Average Rating: 4.30, Wine Count: 1\n"
     ]
    }
   ],
   "source": [
    "#order by wine count\n",
    "import sqlite3\n",
    "\n",
    "# Connect to the database\n",
    "db_connection = sqlite3.connect('../data/vivino.db')\n",
    "cursor = db_connection.cursor()\n",
    "\n",
    "# Execute the SQL query to calculate average rating and wine count per country and order by average rating\n",
    "query = \"\"\"\n",
    "SELECT countries.name, \n",
    "       AVG(wines.ratings_average), \n",
    "       COUNT(wines.id)\n",
    "FROM countries\n",
    "JOIN regions ON countries.code = regions.country_code\n",
    "JOIN wines ON regions.id = wines.region_id\n",
    "GROUP BY countries.name\n",
    "ORDER BY COUNT(wines.id) DESC;\n",
    "\"\"\"\n",
    "\n",
    "cursor.execute(query)\n",
    "result = cursor.fetchall()\n",
    "\n",
    "# Print the result\n",
    "for row in result:\n",
    "    country_name, avg_rating, wine_count = row\n",
    "    print(f\"Country: {country_name}, Average Rating: {avg_rating:.2f}, Wine Count: {wine_count}\")\n",
    "\n",
    "# Close the cursor and connection\n",
    "cursor.close()\n",
    "db_connection.close()"
   ]
  },
  {
   "cell_type": "markdown",
   "metadata": {},
   "source": [
    "#### Calculating Impact Score\n",
    "To make a well-informed marketing decision, we create an impact score that combines both average rating and wine count. The impact score is calculated by multiplying the average rating by the wine count for each country. This combined metric allows us to assess the potential influence of a country's wines in a holistic manner."
   ]
  },
  {
   "cell_type": "code",
   "execution_count": 5,
   "metadata": {},
   "outputs": [
    {
     "name": "stdout",
     "output_type": "stream",
     "text": [
      "Rank: 1, Country: Italie, Average Rating: 4.43, Count Rating: 2135839, Wine Count: 383, Impact Score: 1696.70\n",
      "Rank: 2, Country: France, Average Rating: 4.45, Count Rating: 2124809, Wine Count: 331, Impact Score: 1472.00\n",
      "Rank: 3, Country: Espagne, Average Rating: 4.44, Count Rating: 746710, Wine Count: 94, Impact Score: 417.70\n",
      "Rank: 4, Country: États-Unis, Average Rating: 4.49, Count Rating: 834263, Wine Count: 74, Impact Score: 332.30\n",
      "Rank: 5, Country: Portugal, Average Rating: 4.44, Count Rating: 62454, Wine Count: 28, Impact Score: 124.20\n",
      "Rank: 6, Country: Argentine, Average Rating: 4.42, Count Rating: 283673, Wine Count: 23, Impact Score: 101.60\n",
      "Rank: 7, Country: Afrique du Sud, Average Rating: 4.46, Count Rating: 59995, Wine Count: 22, Impact Score: 98.10\n",
      "Rank: 8, Country: Chili, Average Rating: 4.43, Count Rating: 159256, Wine Count: 16, Impact Score: 70.90\n",
      "Rank: 9, Country: Allemagne, Average Rating: 4.50, Count Rating: 8257, Wine Count: 14, Impact Score: 63.00\n",
      "Rank: 10, Country: Australie, Average Rating: 4.46, Count Rating: 52138, Wine Count: 12, Impact Score: 53.50\n",
      "Rank: 11, Country: Hongrie, Average Rating: 4.47, Count Rating: 30564, Wine Count: 11, Impact Score: 49.20\n",
      "Rank: 12, Country: Moldavie, Average Rating: 4.48, Count Rating: 14114, Wine Count: 5, Impact Score: 22.40\n",
      "Rank: 13, Country: Grèce, Average Rating: 4.40, Count Rating: 610, Wine Count: 2, Impact Score: 8.80\n",
      "Rank: 14, Country: Suisse, Average Rating: 4.35, Count Rating: 1047, Wine Count: 2, Impact Score: 8.70\n",
      "Rank: 15, Country: Israël, Average Rating: 4.50, Count Rating: 894, Wine Count: 1, Impact Score: 4.50\n",
      "Rank: 16, Country: Roumanie, Average Rating: 4.40, Count Rating: 166, Wine Count: 1, Impact Score: 4.40\n",
      "Rank: 17, Country: Croatie, Average Rating: 4.30, Count Rating: 292, Wine Count: 1, Impact Score: 4.30\n"
     ]
    }
   ],
   "source": [
    "import sqlite3\n",
    "\n",
    "# Connect to the database\n",
    "db_connection = sqlite3.connect('../data/vivino.db')\n",
    "cursor = db_connection.cursor()\n",
    "\n",
    "# Execute the SQL query\n",
    "query = \"\"\"\n",
    "SELECT countries.name AS country_name, \n",
    "       AVG(wines.ratings_average) AS avg_rating, \n",
    "       COUNT(wines.id) AS wine_count,\n",
    "       SUM(wines.ratings_count) AS count_rating,\n",
    "       (AVG(wines.ratings_average) * COUNT(wines.id)) AS impact_score\n",
    "FROM countries\n",
    "JOIN regions ON countries.code = regions.country_code\n",
    "JOIN wines ON regions.id = wines.region_id\n",
    "GROUP BY countries.name\n",
    "ORDER BY impact_score DESC;\n",
    "\"\"\"\n",
    "\n",
    "cursor.execute(query)\n",
    "result = cursor.fetchall()\n",
    "\n",
    "# Print the result\n",
    "for rank, row in enumerate(result, start=1):\n",
    "    country_name, avg_rating, wine_count, count_rating, impact_score = row\n",
    "    print(f\"Rank: {rank}, Country: {country_name}, Average Rating: {avg_rating:.2f}, Count Rating: {count_rating}, Wine Count: {wine_count}, Impact Score: {impact_score:.2f}\")\n",
    "\n",
    "# Close the cursor and connection\n",
    "cursor.close()\n",
    "db_connection.close()\n"
   ]
  },
  {
   "cell_type": "markdown",
   "metadata": {},
   "source": [
    "#### Exploring Detailed Wine Impact\n",
    "\n",
    "Now, let's further explore the impact of specific wines based on various factors. We're focusing on the top 10 wines with the highest rating counts and average ratings. Our goal is to understand which wines are most popular, reasonably priced, and well-rated across different countries.\n"
   ]
  },
  {
   "cell_type": "code",
   "execution_count": 6,
   "metadata": {},
   "outputs": [
    {
     "name": "stdout",
     "output_type": "stream",
     "text": [
      "Wine Name: Tignanello, Wine ID: 1652, Country: Italie, Average Price (Euros): 430.56, Rating Count: 81378, Average Rating: 4.54\n",
      "Wine Name: Sassicaia, Wine ID: 5078, Country: Italie, Average Price (Euros): 990.24, Rating Count: 69137, Average Rating: 4.22\n",
      "Wine Name: Brut Champagne, Wine ID: 86684, Country: France, Average Price (Euros): 437.27, Rating Count: 48835, Average Rating: 4.58\n",
      "Wine Name: Brut Cuvée Champagne Rosé, Wine ID: 8305, Country: France, Average Price (Euros): 72.00, Rating Count: 36681, Average Rating: 4.40\n",
      "Wine Name: Bolgheri Superiore, Wine ID: 22447, Country: Italie, Average Price (Euros): 556.97, Rating Count: 28703, Average Rating: 4.60\n",
      "Wine Name: Grande Cuvée, Wine ID: 7122486, Country: France, Average Price (Euros): 245.00, Rating Count: 28513, Average Rating: 4.60\n",
      "Wine Name: Opus One, Wine ID: 1911534, Country: États-Unis, Average Price (Euros): 720.25, Rating Count: 24607, Average Rating: 4.65\n",
      "Wine Name: Brut Rosé Champagne, Wine ID: 1211816, Country: France, Average Price (Euros): 81.50, Rating Count: 23241, Average Rating: 4.40\n",
      "Wine Name: Brut Rosé Champagne, Wine ID: 1148298, Country: France, Average Price (Euros): 49.61, Rating Count: 21147, Average Rating: 4.40\n",
      "Wine Name: Cristal Brut Champagne (Millésimé), Wine ID: 74304, Country: France, Average Price (Euros): 996.61, Rating Count: 20293, Average Rating: 4.64\n"
     ]
    }
   ],
   "source": [
    "import sqlite3\n",
    "\n",
    "# Connect to the database\n",
    "db_connection = sqlite3.connect('../data/vivino.db')\n",
    "cursor = db_connection.cursor()\n",
    "\n",
    "# Execute the SQL query with sorting\n",
    "query = \"\"\"\n",
    "SELECT wines.name, wines.id, AVG(vintages.price_euros),\n",
    "       SUM(vintages.ratings_count) AS rating_count,\n",
    "       AVG(vintages.ratings_average) AS avg_rating,\n",
    "       countries.name AS country_name\n",
    "FROM wines\n",
    "JOIN vintages ON wines.id = vintages.wine_id\n",
    "JOIN regions ON wines.region_id = regions.id\n",
    "JOIN countries ON regions.country_code = countries.code\n",
    "GROUP BY wines.name, wines.id\n",
    "ORDER BY  rating_count DESC, AVG(vintages.price_euros) ASC, avg_rating DESC\n",
    "LIMIT 10;\n",
    "\"\"\"\n",
    "\n",
    "cursor.execute(query)\n",
    "result = cursor.fetchall()\n",
    "\n",
    "# Print the result\n",
    "for row in result:\n",
    "    wine_name, wine_id, avg_price, rating_count, avg_rating, country_name = row\n",
    "    print(f\"Wine Name: {wine_name}, Wine ID: {wine_id}, Country: {country_name}, \"\n",
    "          f\"Average Price (Euros): {avg_price:.2f}, Rating Count: {rating_count}, \"\n",
    "          f\"Average Rating: {avg_rating:.2f}\")\n",
    "\n",
    "# Close the cursor and connection\n",
    "cursor.close()\n",
    "db_connection.close()\n"
   ]
  },
  {
   "cell_type": "markdown",
   "metadata": {},
   "source": [
    "#### Decision Making: Prioritizing Marketing Efforts\n",
    "\n",
    "With the information we've gathered, we can now decide which country to focus our marketing on this year. We should look at countries with high average ratings, lots of wines, and a big impact score. This decision fits our business goals and strategy."
   ]
  }
 ],
 "metadata": {
  "kernelspec": {
   "display_name": "Python 3",
   "language": "python",
   "name": "python3"
  },
  "language_info": {
   "codemirror_mode": {
    "name": "ipython",
    "version": 3
   },
   "file_extension": ".py",
   "mimetype": "text/x-python",
   "name": "python",
   "nbconvert_exporter": "python",
   "pygments_lexer": "ipython3",
   "version": "3.11.4"
  },
  "orig_nbformat": 4
 },
 "nbformat": 4,
 "nbformat_minor": 2
}
