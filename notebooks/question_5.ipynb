{
 "cells": [
  {
   "cell_type": "code",
   "execution_count": 24,
   "metadata": {},
   "outputs": [],
   "source": [
    "# import sqlalchemy\n",
    "import sqlite3\n",
    "import pandas as pd"
   ]
  },
  {
   "cell_type": "code",
   "execution_count": 25,
   "metadata": {},
   "outputs": [],
   "source": [
    "import matplotlib.pyplot as plt\n",
    "import seaborn as sns"
   ]
  },
  {
   "cell_type": "code",
   "execution_count": 26,
   "metadata": {},
   "outputs": [],
   "source": [
    "# Connect to SQLite database\n",
    "connection = sqlite3.connect(r'../data/vivino.db')\n",
    "# Create a cursor object\n",
    "cursor = connection.cursor()"
   ]
  },
  {
   "cell_type": "markdown",
   "metadata": {},
   "source": [
    "## Average wine rating by country"
   ]
  },
  {
   "cell_type": "code",
   "execution_count": 27,
   "metadata": {},
   "outputs": [
    {
     "name": "stdout",
     "output_type": "stream",
     "text": [
      "(17, 4)\n"
     ]
    },
    {
     "data": {
      "text/html": [
       "<div>\n",
       "<style scoped>\n",
       "    .dataframe tbody tr th:only-of-type {\n",
       "        vertical-align: middle;\n",
       "    }\n",
       "\n",
       "    .dataframe tbody tr th {\n",
       "        vertical-align: top;\n",
       "    }\n",
       "\n",
       "    .dataframe thead th {\n",
       "        text-align: right;\n",
       "    }\n",
       "</style>\n",
       "<table border=\"1\" class=\"dataframe\">\n",
       "  <thead>\n",
       "    <tr style=\"text-align: right;\">\n",
       "      <th></th>\n",
       "      <th>code</th>\n",
       "      <th>country_name</th>\n",
       "      <th>rating</th>\n",
       "      <th>ratings_sum</th>\n",
       "    </tr>\n",
       "  </thead>\n",
       "  <tbody>\n",
       "    <tr>\n",
       "      <th>0</th>\n",
       "      <td>za</td>\n",
       "      <td>Afrique du Sud</td>\n",
       "      <td>4.46</td>\n",
       "      <td>59995</td>\n",
       "    </tr>\n",
       "    <tr>\n",
       "      <th>1</th>\n",
       "      <td>de</td>\n",
       "      <td>Allemagne</td>\n",
       "      <td>4.50</td>\n",
       "      <td>8257</td>\n",
       "    </tr>\n",
       "    <tr>\n",
       "      <th>2</th>\n",
       "      <td>ar</td>\n",
       "      <td>Argentine</td>\n",
       "      <td>4.42</td>\n",
       "      <td>283673</td>\n",
       "    </tr>\n",
       "    <tr>\n",
       "      <th>3</th>\n",
       "      <td>au</td>\n",
       "      <td>Australie</td>\n",
       "      <td>4.46</td>\n",
       "      <td>52138</td>\n",
       "    </tr>\n",
       "    <tr>\n",
       "      <th>4</th>\n",
       "      <td>cl</td>\n",
       "      <td>Chili</td>\n",
       "      <td>4.43</td>\n",
       "      <td>159256</td>\n",
       "    </tr>\n",
       "  </tbody>\n",
       "</table>\n",
       "</div>"
      ],
      "text/plain": [
       "  code    country_name  rating  ratings_sum\n",
       "0   za  Afrique du Sud    4.46        59995\n",
       "1   de       Allemagne    4.50         8257\n",
       "2   ar       Argentine    4.42       283673\n",
       "3   au       Australie    4.46        52138\n",
       "4   cl           Chili    4.43       159256"
      ]
     },
     "metadata": {},
     "output_type": "display_data"
    }
   ],
   "source": [
    "query_wine_ratings_by_country = \"\"\"\n",
    "    SELECT countries.code AS code, \n",
    "           countries.name AS country_name,  \n",
    "           ROUND(AVG(wines.ratings_average), 2) AS rating,\n",
    "           SUM(wines.ratings_count) as ratings_sum\n",
    "    FROM countries\n",
    "        JOIN regions ON countries.code = regions.country_code\n",
    "        JOIN wines ON regions.id = wines.region_id\n",
    "    GROUP BY code\n",
    "    ORDER BY country_name ASC\n",
    "    -- LIMIT 10\n",
    "    ;\n",
    "\"\"\"\n",
    "df_wine_ratings_by_country = pd.read_sql_query(query_wine_ratings_by_country, connection)\n",
    "print(df_wine_ratings_by_country.shape)\n",
    "display(df_wine_ratings_by_country.head())"
   ]
  },
  {
   "cell_type": "code",
   "execution_count": 28,
   "metadata": {},
   "outputs": [
    {
     "data": {
      "image/png": "[encoded data removed]",
      "text/plain": [
       "<Figure size 500x500 with 1 Axes>"
      ]
     },
     "metadata": {},
     "output_type": "display_data"
    },
    {
     "data": {
      "text/plain": [
       "<Figure size 640x480 with 0 Axes>"
      ]
     },
     "metadata": {},
     "output_type": "display_data"
    }
   ],
   "source": [
    "g1 = sns.catplot(\n",
    "\tx = \"country_name\",\n",
    "\ty = \"rating\",\n",
    "\tdata = df_wine_ratings_by_country,\n",
    "\tkind = \"bar\"\n",
    ")\n",
    "g1.tick_params(axis=\"x\", rotation=90)\n",
    "plt.show()\n",
    "plt.clf()"
   ]
  },
  {
   "cell_type": "markdown",
   "metadata": {},
   "source": [
    "## Average vintage rating by country"
   ]
  },
  {
   "cell_type": "code",
   "execution_count": 29,
   "metadata": {},
   "outputs": [
    {
     "name": "stdout",
     "output_type": "stream",
     "text": [
      "(17, 4)\n"
     ]
    },
    {
     "data": {
      "text/html": [
       "<div>\n",
       "<style scoped>\n",
       "    .dataframe tbody tr th:only-of-type {\n",
       "        vertical-align: middle;\n",
       "    }\n",
       "\n",
       "    .dataframe tbody tr th {\n",
       "        vertical-align: top;\n",
       "    }\n",
       "\n",
       "    .dataframe thead th {\n",
       "        text-align: right;\n",
       "    }\n",
       "</style>\n",
       "<table border=\"1\" class=\"dataframe\">\n",
       "  <thead>\n",
       "    <tr style=\"text-align: right;\">\n",
       "      <th></th>\n",
       "      <th>code</th>\n",
       "      <th>country_name</th>\n",
       "      <th>rating</th>\n",
       "      <th>ratings_sum</th>\n",
       "    </tr>\n",
       "  </thead>\n",
       "  <tbody>\n",
       "    <tr>\n",
       "      <th>0</th>\n",
       "      <td>za</td>\n",
       "      <td>Afrique du Sud</td>\n",
       "      <td>3.66</td>\n",
       "      <td>5636</td>\n",
       "    </tr>\n",
       "    <tr>\n",
       "      <th>1</th>\n",
       "      <td>de</td>\n",
       "      <td>Allemagne</td>\n",
       "      <td>1.70</td>\n",
       "      <td>874</td>\n",
       "    </tr>\n",
       "    <tr>\n",
       "      <th>2</th>\n",
       "      <td>ar</td>\n",
       "      <td>Argentine</td>\n",
       "      <td>4.32</td>\n",
       "      <td>16951</td>\n",
       "    </tr>\n",
       "    <tr>\n",
       "      <th>3</th>\n",
       "      <td>au</td>\n",
       "      <td>Australie</td>\n",
       "      <td>2.83</td>\n",
       "      <td>3804</td>\n",
       "    </tr>\n",
       "    <tr>\n",
       "      <th>4</th>\n",
       "      <td>cl</td>\n",
       "      <td>Chili</td>\n",
       "      <td>4.12</td>\n",
       "      <td>14080</td>\n",
       "    </tr>\n",
       "  </tbody>\n",
       "</table>\n",
       "</div>"
      ],
      "text/plain": [
       "  code    country_name  rating  ratings_sum\n",
       "0   za  Afrique du Sud    3.66         5636\n",
       "1   de       Allemagne    1.70          874\n",
       "2   ar       Argentine    4.32        16951\n",
       "3   au       Australie    2.83         3804\n",
       "4   cl           Chili    4.12        14080"
      ]
     },
     "metadata": {},
     "output_type": "display_data"
    }
   ],
   "source": [
    "query_vintage_ratings_by_country = \"\"\"\n",
    "    SELECT countries.code AS code, \n",
    "           countries.name AS country_name,  \n",
    "           ROUND(AVG(vintages.ratings_average), 2) AS rating,\n",
    "           SUM(vintages.ratings_count) as ratings_sum\n",
    "    FROM countries\n",
    "        JOIN regions ON countries.code = regions.country_code\n",
    "        JOIN wines ON regions.id = wines.region_id\n",
    "        JOIN vintages ON wines.id = vintages.wine_id\n",
    "    GROUP BY code\n",
    "    ORDER BY country_name ASC\n",
    "    -- LIMIT 10\n",
    "    ;\n",
    "\"\"\"\n",
    "df_vintage_ratings_by_country = pd.read_sql_query(query_vintage_ratings_by_country, connection)\n",
    "print(df_vintage_ratings_by_country.shape)\n",
    "display(df_vintage_ratings_by_country.head())"
   ]
  },
  {
   "cell_type": "code",
   "execution_count": 30,
   "metadata": {},
   "outputs": [
    {
     "data": {
      "image/png": "[encoded data removed]",
      "text/plain": [
       "<Figure size 500x500 with 1 Axes>"
      ]
     },
     "metadata": {},
     "output_type": "display_data"
    },
    {
     "data": {
      "text/plain": [
       "<Figure size 640x480 with 0 Axes>"
      ]
     },
     "metadata": {},
     "output_type": "display_data"
    }
   ],
   "source": [
    "g2 = sns.catplot(\n",
    "\tx = \"country_name\",\n",
    "\ty = \"rating\",\n",
    "\tdata = df_vintage_ratings_by_country,\n",
    "\tkind = \"bar\"\n",
    ")\n",
    "g2.tick_params(axis=\"x\", rotation=90)\n",
    "plt.show()\n",
    "plt.clf()"
   ]
  }
 ],
 "metadata": {
  "kernelspec": {
   "display_name": "_project_env",
   "language": "python",
   "name": "python3"
  },
  "language_info": {
   "codemirror_mode": {
    "name": "ipython",
    "version": 3
   },
   "file_extension": ".py",
   "mimetype": "text/x-python",
   "name": "python",
   "nbconvert_exporter": "python",
   "pygments_lexer": "ipython3",
   "version": "3.11.3"
  },
  "orig_nbformat": 4
 },
 "nbformat": 4,
 "nbformat_minor": 2
}
