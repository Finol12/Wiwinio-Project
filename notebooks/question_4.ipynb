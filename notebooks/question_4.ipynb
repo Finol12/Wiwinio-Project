{
 "cells": [
  {
   "cell_type": "code",
   "execution_count": 6,
   "metadata": {},
   "outputs": [],
   "source": [
    "# import sqlalchemy\n",
    "import sqlite3\n",
    "import pandas as pd"
   ]
  },
  {
   "cell_type": "code",
   "execution_count": 7,
   "metadata": {},
   "outputs": [],
   "source": [
    "import matplotlib.pyplot as plt\n",
    "import seaborn as sns"
   ]
  },
  {
   "cell_type": "code",
   "execution_count": 8,
   "metadata": {},
   "outputs": [],
   "source": [
    "# Connect to SQLite database\n",
    "connection = sqlite3.connect(r'../data/vivino.db')\n",
    "# Create a cursor object\n",
    "cursor = connection.cursor()"
   ]
  },
  {
   "cell_type": "markdown",
   "metadata": {},
   "source": [
    "## Most common grapes, best rated winse\n",
    "\n",
    "We would like to select wines that are easy to find all over the world. \n",
    "\n",
    "Find the top 3 most common grape all over the world and for each grape, give us the 5 best rated wines."
   ]
  },
  {
   "cell_type": "code",
   "execution_count": 9,
   "metadata": {},
   "outputs": [
    {
     "name": "stdout",
     "output_type": "stream",
     "text": [
      "(3, 2)\n"
     ]
    },
    {
     "data": {
      "text/html": [
       "<div>\n",
       "<style scoped>\n",
       "    .dataframe tbody tr th:only-of-type {\n",
       "        vertical-align: middle;\n",
       "    }\n",
       "\n",
       "    .dataframe tbody tr th {\n",
       "        vertical-align: top;\n",
       "    }\n",
       "\n",
       "    .dataframe thead th {\n",
       "        text-align: right;\n",
       "    }\n",
       "</style>\n",
       "<table border=\"1\" class=\"dataframe\">\n",
       "  <thead>\n",
       "    <tr style=\"text-align: right;\">\n",
       "      <th></th>\n",
       "      <th>name</th>\n",
       "      <th>total</th>\n",
       "    </tr>\n",
       "  </thead>\n",
       "  <tbody>\n",
       "    <tr>\n",
       "      <th>0</th>\n",
       "      <td>Cabernet Sauvignon</td>\n",
       "      <td>12</td>\n",
       "    </tr>\n",
       "    <tr>\n",
       "      <th>1</th>\n",
       "      <td>Merlot</td>\n",
       "      <td>11</td>\n",
       "    </tr>\n",
       "    <tr>\n",
       "      <th>2</th>\n",
       "      <td>Chardonnay</td>\n",
       "      <td>6</td>\n",
       "    </tr>\n",
       "  </tbody>\n",
       "</table>\n",
       "</div>"
      ],
      "text/plain": [
       "                 name  total\n",
       "0  Cabernet Sauvignon     12\n",
       "1              Merlot     11\n",
       "2          Chardonnay      6"
      ]
     },
     "metadata": {},
     "output_type": "display_data"
    }
   ],
   "source": [
    "query_grapes = \"\"\"\n",
    "    SELECT grapes.name, \n",
    "           COUNT(most_used_grapes_per_country.country_code) AS total\n",
    "           -- SUM(most_used_grapes_per_country.wines_count) AS total_wines\n",
    "           -- AVG(most_used_grapes_per_country.wines_count) AS total_wines\n",
    "    FROM grapes\n",
    "        JOIN most_used_grapes_per_country ON grapes.id = most_used_grapes_per_country.grape_id\n",
    "    GROUP BY most_used_grapes_per_country.grape_id\n",
    "    ORDER BY total DESC\n",
    "    LIMIT 3\n",
    "    ;\n",
    "\"\"\"\n",
    "\n",
    "df_grapes = pd.read_sql_query(query_grapes, connection)\n",
    "print(df_grapes.shape)\n",
    "display(df_grapes.head())"
   ]
  },
  {
   "cell_type": "code",
   "execution_count": 10,
   "metadata": {},
   "outputs": [],
   "source": [
    "# No connection between grapes and wines tables...\n"
   ]
  }
 ],
 "metadata": {
  "kernelspec": {
   "display_name": "_project_env",
   "language": "python",
   "name": "python3"
  },
  "language_info": {
   "codemirror_mode": {
    "name": "ipython",
    "version": 3
   },
   "file_extension": ".py",
   "mimetype": "text/x-python",
   "name": "python",
   "nbconvert_exporter": "python",
   "pygments_lexer": "ipython3",
   "version": "3.11.3"
  },
  "orig_nbformat": 4
 },
 "nbformat": 4,
 "nbformat_minor": 2
}
